{
  "cells": [
    {
      "cell_type": "markdown",
      "metadata": {
        "id": "view-in-github",
        "colab_type": "text"
      },
      "source": [
        "<a href=\"https://colab.research.google.com/github/Hy-per-ion/ECG-Classification/blob/main/temporal_convolutional_%26_multihead%C2%A0attention.ipynb\" target=\"_parent\"><img src=\"https://colab.research.google.com/assets/colab-badge.svg\" alt=\"Open In Colab\"/></a>"
      ]
    },
    {
      "cell_type": "code",
      "execution_count": null,
      "metadata": {
        "colab": {
          "base_uri": "https://localhost:8080/"
        },
        "id": "56Gxi3QsRpgZ",
        "outputId": "fd6d7760-2845-45f3-f33a-8395f56f55ea"
      },
      "outputs": [
        {
          "name": "stdout",
          "output_type": "stream",
          "text": [
            "Mounted at /content/drive\n"
          ]
        }
      ],
      "source": [
        "from google.colab import drive\n",
        "drive.mount('/content/drive')"
      ]
    },
    {
      "cell_type": "code",
      "execution_count": null,
      "metadata": {
        "id": "9MgDSwOB-lOc"
      },
      "outputs": [],
      "source": [
        "import os\n",
        "import cv2\n",
        "import numpy as np\n",
        "import torch\n",
        "from sklearn.model_selection import train_test_split\n",
        "from torch.utils.data import DataLoader, Dataset\n",
        "from torchvision import transforms"
      ]
    },
    {
      "cell_type": "code",
      "execution_count": null,
      "metadata": {
        "id": "Y0d23jDe-pm_"
      },
      "outputs": [],
      "source": [
        "class ECGImageDataset(Dataset):\n",
        "    def __init__(self, root_dir, transform=None):\n",
        "        self.root_dir = root_dir\n",
        "        self.transform = transform\n",
        "        self.image_paths = []\n",
        "        self.labels = []\n",
        "        self.label_map = {\n",
        "            'ECG Images of Myocardial Infarction Patients (240x12=2880)': 0,\n",
        "            'ECG Images of Patient that have History of MI (172x12=2064)': 1,\n",
        "            'ECG Images of Patient that have abnormal heartbeat (233x12=2796)': 2,\n",
        "            'Normal Person ECG Images (284x12=3408)': 3\n",
        "        }\n",
        "        self._load_data()\n",
        "\n",
        "    def _load_data(self):\n",
        "        for folder in os.listdir(self.root_dir):\n",
        "            folder_path = os.path.join(self.root_dir, folder)\n",
        "            label = self.label_map[folder]\n",
        "            for img_name in os.listdir(folder_path):\n",
        "                img_path = os.path.join(folder_path, img_name)\n",
        "                self.image_paths.append(img_path)\n",
        "                self.labels.append(label)\n",
        "\n",
        "    def __len__(self):\n",
        "        return len(self.image_paths)\n",
        "\n",
        "    def __getitem__(self, idx):\n",
        "        img_path = self.image_paths[idx]\n",
        "        img = cv2.imread(img_path, cv2.IMREAD_GRAYSCALE)\n",
        "        img = cv2.resize(img, (64, 64))\n",
        "\n",
        "        if self.transform:\n",
        "            img = self.transform(img)\n",
        "\n",
        "        label = self.labels[idx]\n",
        "        return img, label\n",
        "\n",
        "transform = transforms.Compose([\n",
        "    transforms.ToTensor(),\n",
        "    transforms.Normalize((0.5,), (0.5,))\n",
        "])"
      ]
    },
    {
      "cell_type": "code",
      "execution_count": null,
      "metadata": {
        "id": "klk6HSiE-rWK"
      },
      "outputs": [],
      "source": [
        "train_dataset = ECGImageDataset('/content/drive/MyDrive/ECG_Data/train', transform=transform)\n",
        "test_dataset = ECGImageDataset('/content/drive/MyDrive/ECG_Data/test', transform=transform)"
      ]
    },
    {
      "cell_type": "code",
      "execution_count": null,
      "metadata": {
        "id": "UPLISEMa-ssF"
      },
      "outputs": [],
      "source": [
        "train_loader = DataLoader(train_dataset, batch_size=4, shuffle=True)\n",
        "test_loader = DataLoader(test_dataset, batch_size=4, shuffle=False)"
      ]
    },
    {
      "cell_type": "code",
      "execution_count": null,
      "metadata": {
        "id": "S8EjgOq8-vMc"
      },
      "outputs": [],
      "source": [
        "import torch.nn as nn\n",
        "import torch.nn.functional as F"
      ]
    },
    {
      "cell_type": "code",
      "execution_count": null,
      "metadata": {
        "id": "a6r0F4PU-3X-"
      },
      "outputs": [],
      "source": [
        "class TemporalConvBlock(nn.Module):\n",
        "    def __init__(self, in_channels, out_channels):\n",
        "        super(TemporalConvBlock, self).__init__()\n",
        "        self.conv = nn.Conv2d(in_channels, out_channels, kernel_size=(1, 3), padding=(0, 1))\n",
        "        self.bn = nn.BatchNorm2d(out_channels)\n",
        "\n",
        "    def forward(self, x):\n",
        "        return F.relu(self.bn(self.conv(x)))\n",
        "\n",
        "class TransformerSNNHybridModelWithTemporalConv(nn.Module):\n",
        "    def __init__(self, num_classes=4, input_channels=1):\n",
        "        super(TransformerSNNHybridModelWithTemporalConv, self).__init__()\n",
        "\n",
        "        # Temporal Convolution Blocks\n",
        "        self.tconv1 = TemporalConvBlock(input_channels, 32)\n",
        "        self.tconv2 = TemporalConvBlock(32, 64)\n",
        "        self.tconv3 = TemporalConvBlock(64, 128)\n",
        "\n",
        "        # Self-Attention (Encoder)\n",
        "        self.embedding_dim = 128\n",
        "        self.self_attention = nn.MultiheadAttention(embed_dim=self.embedding_dim, num_heads=4, batch_first=True)\n",
        "\n",
        "        # Fully Connected Layers\n",
        "        self.flatten_size = 128 * 64 * 64\n",
        "        self.fc1 = nn.Linear(self.flatten_size, 512)\n",
        "        self.fc2 = nn.Linear(512, num_classes)\n",
        "\n",
        "\n",
        "    def forward(self, x):\n",
        "        # Apply Temporal Convolutions\n",
        "        x = self.tconv1(x)\n",
        "        x = self.tconv2(x)\n",
        "        x = self.tconv3(x)\n",
        "\n",
        "        # Flatten and Reshape for Self-Attention\n",
        "        b, c, h, w = x.size()\n",
        "        x = x.view(b, c, -1).permute(0, 2, 1)\n",
        "\n",
        "        # Apply Self-Attention\n",
        "        x, _ = self.self_attention(x, x, x)\n",
        "\n",
        "        # Flatten for Fully Connected Layers\n",
        "        x = x.contiguous().view(b, -1)\n",
        "        x = F.relu(self.fc1(x))\n",
        "        x = self.fc2(x)\n",
        "        return x"
      ]
    },
    {
      "cell_type": "code",
      "execution_count": null,
      "metadata": {
        "colab": {
          "base_uri": "https://localhost:8080/"
        },
        "id": "dq_XGRPs-4sf",
        "outputId": "e30ee2eb-74d7-4291-befd-65cdd5e107b1"
      },
      "outputs": [
        {
          "name": "stdout",
          "output_type": "stream",
          "text": [
            "Collecting brian2\n",
            "  Downloading Brian2-2.7.1-cp310-cp310-manylinux_2_17_x86_64.manylinux2014_x86_64.whl.metadata (6.2 kB)\n",
            "Requirement already satisfied: numpy>=1.23.5 in /usr/local/lib/python3.10/dist-packages (from brian2) (1.26.4)\n",
            "Requirement already satisfied: cython>=0.29.21 in /usr/local/lib/python3.10/dist-packages (from brian2) (3.0.11)\n",
            "Requirement already satisfied: sympy>=1.2 in /usr/local/lib/python3.10/dist-packages (from brian2) (1.13.1)\n",
            "Requirement already satisfied: pyparsing in /usr/local/lib/python3.10/dist-packages (from brian2) (3.2.0)\n",
            "Requirement already satisfied: jinja2>=2.7 in /usr/local/lib/python3.10/dist-packages (from brian2) (3.1.4)\n",
            "Requirement already satisfied: setuptools>=61 in /usr/local/lib/python3.10/dist-packages (from brian2) (75.1.0)\n",
            "Requirement already satisfied: packaging in /usr/local/lib/python3.10/dist-packages (from brian2) (24.2)\n",
            "Requirement already satisfied: MarkupSafe>=2.0 in /usr/local/lib/python3.10/dist-packages (from jinja2>=2.7->brian2) (3.0.2)\n",
            "Requirement already satisfied: mpmath<1.4,>=1.1.0 in /usr/local/lib/python3.10/dist-packages (from sympy>=1.2->brian2) (1.3.0)\n",
            "Downloading Brian2-2.7.1-cp310-cp310-manylinux_2_17_x86_64.manylinux2014_x86_64.whl (1.8 MB)\n",
            "\u001b[2K   \u001b[90m━━━━━━━━━━━━━━━━━━━━━━━━━━━━━━━━━━━━━━━━\u001b[0m \u001b[32m1.8/1.8 MB\u001b[0m \u001b[31m20.1 MB/s\u001b[0m eta \u001b[36m0:00:00\u001b[0m\n",
            "\u001b[?25hInstalling collected packages: brian2\n",
            "Successfully installed brian2-2.7.1\n"
          ]
        }
      ],
      "source": [
        "!pip install brian2"
      ]
    },
    {
      "cell_type": "code",
      "execution_count": null,
      "metadata": {
        "id": "iGfqnmMS-74z"
      },
      "outputs": [],
      "source": [
        "from brian2 import *\n",
        "\n",
        "def convert_to_spikes(image, spike_rate=20):\n",
        "    image = image.numpy()\n",
        "    image = np.clip(image.flatten(), 0, 1)\n",
        "    spike_times = []\n",
        "\n",
        "    # Encoding process\n",
        "    for i, pixel in enumerate(image):\n",
        "        spike_lambda = pixel * spike_rate\n",
        "        if spike_lambda < 0:\n",
        "            spike_lambda = 0\n",
        "\n",
        "        # Poisson distribution to generate spikes\n",
        "        spikes_for_pixel = np.random.poisson(spike_lambda, 1)\n",
        "        spike_times.extend([i] * spikes_for_pixel)\n",
        "\n",
        "    return spike_times\n",
        "\n",
        "# SNN Layer\n",
        "def snn_layer(input_spikes, num_neurons=100):\n",
        "    start_scope()\n",
        "    eqs = '''\n",
        "    dv/dt = (I - v) / (10*ms) : 1\n",
        "    I = 0 : 1 (constant)\n",
        "    '''\n",
        "    G = NeuronGroup(num_neurons, eqs, threshold='v>1', reset='v=0', method='exact')\n",
        "    spikes = SpikeMonitor(G)\n",
        "\n",
        "    for spike in input_spikes:\n",
        "        G[spike].I = 1\n",
        "\n",
        "    run(1 * second)\n",
        "    return spikes.count"
      ]
    },
    {
      "cell_type": "code",
      "execution_count": null,
      "metadata": {
        "id": "-OEy_Z44--vf"
      },
      "outputs": [],
      "source": [
        "import time\n",
        "\n",
        "def epoch_time(start_time, end_time):\n",
        "    elapsed_time = end_time - start_time\n",
        "    minutes = int(elapsed_time / 60)\n",
        "    seconds = int(elapsed_time % 60)\n",
        "    return minutes, seconds\n",
        "\n",
        "def train(model, train_loader, optimizer, criterion, device):\n",
        "    model.train()\n",
        "    running_loss = 0.0\n",
        "    for inputs, labels in train_loader:\n",
        "        inputs, labels = inputs.to(device), labels.to(device)\n",
        "        optimizer.zero_grad()\n",
        "        spike_inputs = [convert_to_spikes(image) for image in inputs]\n",
        "        outputs = model(inputs)\n",
        "        loss = criterion(outputs, labels)\n",
        "        loss.backward()\n",
        "        optimizer.step()\n",
        "        running_loss += loss.item()\n",
        "    return running_loss / len(train_loader)\n",
        "\n",
        "def test(model, test_loader, device):\n",
        "    model.eval()\n",
        "    correct = 0\n",
        "    total = 0\n",
        "    with torch.no_grad():\n",
        "        for inputs, labels in test_loader:\n",
        "            inputs, labels = inputs.to(device), labels.to(device)\n",
        "            spike_inputs = [convert_to_spikes(image) for image in inputs]\n",
        "            outputs = model(inputs)\n",
        "            _, predicted = torch.max(outputs, 1)\n",
        "            total += labels.size(0)\n",
        "            correct += (predicted == labels).sum().item()\n",
        "    accuracy = correct / total\n",
        "    return accuracy"
      ]
    },
    {
      "cell_type": "code",
      "execution_count": null,
      "metadata": {
        "colab": {
          "background_save": true,
          "base_uri": "https://localhost:8080/"
        },
        "id": "fmfL7Y81_CNX",
        "outputId": "161b5fc5-9468-474b-a311-3c99b8bd57e3"
      },
      "outputs": [
        {
          "name": "stdout",
          "output_type": "stream",
          "text": [
            "Epoch [1/50], Loss: 3.0139, Accuracy: 0.5246, Time: 64m 41s\n",
            "Epoch [2/50], Loss: 1.1109, Accuracy: 0.5670, Time: 62m 43s\n",
            "Epoch [3/50], Loss: 0.7432, Accuracy: 0.6540, Time: 58m 33s\n"
          ]
        }
      ],
      "source": [
        "device = torch.device('cuda' if torch.cuda.is_available() else 'cpu')\n",
        "model = TransformerSNNHybridModelWithTemporalConv(num_classes=4, input_channels=1).to(device)\n",
        "\n",
        "criterion = nn.CrossEntropyLoss()\n",
        "optimizer = torch.optim.Adam(model.parameters(), lr=0.001)\n",
        "\n",
        "max_epochs = 50\n",
        "stop_accuracy = 0.99\n",
        "\n",
        "total_start_time = time.time()\n",
        "\n",
        "for epoch in range(max_epochs):\n",
        "    start_time = time.time()\n",
        "    train_loss = train(model, train_loader, optimizer, criterion, device)\n",
        "    accuracy = test(model, test_loader, device)\n",
        "    end_time = time.time()\n",
        "    epoch_minutes, epoch_seconds = epoch_time(start_time, end_time)\n",
        "    print(f\"Epoch [{epoch + 1}/{max_epochs}], Loss: {train_loss:.4f}, Accuracy: {accuracy:.4f}, Time: {epoch_minutes}m {epoch_seconds}s\")\n",
        "\n",
        "    if accuracy >= stop_accuracy:\n",
        "        print(f\"Training stopped as accuracy reached {accuracy * 100:.2f}% at epoch {epoch + 1}.\")\n",
        "        break\n",
        "\n",
        "total_end_time = time.time()\n",
        "total_minutes, total_seconds = epoch_time(total_start_time, total_end_time)\n",
        "\n",
        "print(f\"Training completed in {total_minutes}m {total_seconds}s.\")"
      ]
    },
    {
      "cell_type": "code",
      "execution_count": null,
      "metadata": {
        "id": "fMW5A4S4_DsO"
      },
      "outputs": [],
      "source": [
        "from sklearn.metrics import confusion_matrix, classification_report, accuracy_score, precision_score, recall_score, f1_score\n",
        "import seaborn as sns\n",
        "import matplotlib.pyplot as plt\n",
        "import numpy as np"
      ]
    },
    {
      "cell_type": "code",
      "execution_count": null,
      "metadata": {
        "id": "eRX8s3tf9_ar"
      },
      "outputs": [],
      "source": [
        "def evaluate_model(all_labels, all_preds):\n",
        "    # Confusion Matrix\n",
        "    conf_matrix = confusion_matrix(all_labels, all_preds)\n",
        "    plt.figure(figsize=(8, 6))\n",
        "    sns.heatmap(conf_matrix, annot=True, fmt='d', cmap='Blues',\n",
        "                xticklabels=['Myocardial Infarction', 'History of MI', 'Abnormal Heartbeat', 'Normal'],\n",
        "                yticklabels=['Myocardial Infarction', 'History of MI', 'Abnormal Heartbeat', 'Normal'])\n",
        "    plt.xlabel('Predicted')\n",
        "    plt.ylabel('Actual')\n",
        "    plt.title('Confusion Matrix')\n",
        "    plt.show()\n",
        "\n",
        "    # Classification Report\n",
        "    class_report = classification_report(all_labels, all_preds, target_names=['Myocardial Infarction', 'History of MI', 'Abnormal Heartbeat', 'Normal'])\n",
        "    print(\"Classification Report:\\n\", class_report)\n",
        "\n",
        "    accuracy = accuracy_score(all_labels, all_preds)\n",
        "    precision = precision_score(all_labels, all_preds, average='weighted')\n",
        "    recall = recall_score(all_labels, all_preds, average='weighted')\n",
        "    f1 = f1_score(all_labels, all_preds, average='weighted')\n",
        "\n",
        "    print(f\"Accuracy: {accuracy:.4f}\")\n",
        "    print(f\"Precision: {precision:.4f}\")\n",
        "    print(f\"Recall: {recall:.4f}\")\n",
        "    print(f\"F1 Score: {f1:.4f}\")\n",
        "\n",
        "all_preds = []\n",
        "all_labels = []\n",
        "\n",
        "model.eval()\n",
        "with torch.no_grad():\n",
        "    for inputs, labels in test_loader:\n",
        "        inputs, labels = inputs.to(device), labels.to(device)\n",
        "        spike_inputs = [convert_to_spikes(image) for image in inputs]\n",
        "        outputs = model(inputs)\n",
        "        _, predicted = torch.max(outputs, 1)\n",
        "        all_preds.extend(predicted.cpu().numpy())\n",
        "        all_labels.extend(labels.cpu().numpy())\n",
        "\n",
        "evaluate_model(all_labels, all_preds)\n"
      ]
    },
    {
      "cell_type": "code",
      "source": [
        "import matplotlib.pyplot as plt\n",
        "\n",
        "# Data\n",
        "labels = ['Correct', 'Incorrect']\n",
        "sizes = [97.78, 2.22]  # Percentages\n",
        "colors = ['#ff5733', '#4a69bd']  # Bright Orange and Deep Maroon\n",
        "\n",
        "explode = (0.1, 0)  # Highlight the 'Correct' segment\n",
        "\n",
        "# Plotting the pie chart\n",
        "plt.figure(figsize=(6, 6))\n",
        "plt.pie(sizes, labels=labels, autopct='%1.2f%%', startangle=90, colors=colors, explode=explode)\n",
        "plt.title('Model Accuracy')\n",
        "plt.show()\n"
      ],
      "metadata": {
        "colab": {
          "base_uri": "https://localhost:8080/",
          "height": 521
        },
        "id": "ByMdbmX9KzFO",
        "outputId": "b119c67d-ae45-4cd3-afdf-3cdde8dc2cdc"
      },
      "execution_count": null,
      "outputs": [
        {
          "output_type": "display_data",
          "data": {
            "text/plain": [
              "<Figure size 600x600 with 1 Axes>"
            ],
            "image/png": "[encoded data removed]"
          },
          "metadata": {}
        }
      ]
    },
    {
      "cell_type": "code",
      "source": [
        "import matplotlib.pyplot as plt\n",
        "import numpy as np\n",
        "\n",
        "# Data for the models\n",
        "models = ['CNN', 'SNN + CNN', 'SNN-CNN-Attention']\n",
        "accuracy = [91.21, 94.54, 97.78]\n",
        "precision = [90, 92, 96]\n",
        "recall = [91, 93, 97]\n",
        "\n",
        "# Bar width\n",
        "bar_width = 0.25\n",
        "\n",
        "# Position of bars on the x-axis\n",
        "x = np.arange(len(models))\n",
        "x1 = x - bar_width\n",
        "x2 = x\n",
        "x3 = x + bar_width\n",
        "\n",
        "# Create the bar chart\n",
        "plt.figure(figsize=(10, 6))\n",
        "plt.bar(x1, accuracy, color='blue', width=bar_width, label='Accuracy (%)')\n",
        "plt.bar(x2, precision, color='green', width=bar_width, label='Precision')\n",
        "plt.bar(x3, recall, color='orange', width=bar_width, label='Recall')\n",
        "\n",
        "# Add labels, title, and legend\n",
        "plt.xlabel('Models', fontsize=12)\n",
        "plt.ylabel('Metrics', fontsize=12)\n",
        "plt.title('Performance Metrics Comparison Between Models', fontsize=14)\n",
        "plt.xticks(x, models, fontsize=14)  # Increased font size for model names\n",
        "plt.yticks(fontsize=12)\n",
        "plt.legend()\n",
        "\n",
        "# Adjust y-axis range\n",
        "plt.ylim(89, 100)\n",
        "\n",
        "# Display the chart\n",
        "plt.tight_layout()\n",
        "plt.show()\n"
      ],
      "metadata": {
        "colab": {
          "base_uri": "https://localhost:8080/",
          "height": 607
        },
        "id": "X4HgQ2y9uVoi",
        "outputId": "95e405bf-8872-48f3-80b0-27b2625ecd0b"
      },
      "execution_count": null,
      "outputs": [
        {
          "output_type": "display_data",
          "data": {
            "text/plain": [
              "<Figure size 1000x600 with 1 Axes>"
            ],
            "image/png": "[encoded data removed]"
          },
          "metadata": {}
        }
      ]
    }
  ],
  "metadata": {
    "colab": {
      "provenance": [],
      "authorship_tag": "ABX9TyOmfYqzKnTuZbvfMqj46959",
      "include_colab_link": true
    },
    "kernelspec": {
      "display_name": "Python 3",
      "name": "python3"
    },
    "language_info": {
      "name": "python"
    }
  },
  "nbformat": 4,
  "nbformat_minor": 0
}